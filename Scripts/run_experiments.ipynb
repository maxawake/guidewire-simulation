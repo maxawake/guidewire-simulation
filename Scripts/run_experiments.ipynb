{
 "cells": [
  {
   "cell_type": "code",
   "execution_count": 3,
   "metadata": {},
   "outputs": [],
   "source": [
    "from utils import *\n",
    "import numpy as np\n",
    "import multiprocessing as mp\n",
    "\n",
    "PATH = \"/home/max/Temp/Praktikum/experiments-new\""
   ]
  },
  {
   "cell_type": "markdown",
   "metadata": {},
   "source": [
    "# Test experiment script"
   ]
  },
  {
   "cell_type": "code",
   "execution_count": 4,
   "metadata": {},
   "outputs": [
    {
     "name": "stdout",
     "output_type": "stream",
     "text": [
      "Running Unity with the following command:\n",
      "/home/max/Documents/Unity/guidewire-simulation-without-aorta.x86_64 -parameters /home/max/Github/guidewire-simulation/Scripts/sample-parameters.json -logFile /home/max/Github/guidewire-simulation/Scripts/example-log.txt -batchmode -nographics\n",
      "Unity process finished with exit code: 0\n"
     ]
    },
    {
     "data": {
      "text/plain": [
       "CompletedProcess(args=['/home/max/Documents/Unity/guidewire-simulation-without-aorta.x86_64', '-parameters', '/home/max/Github/guidewire-simulation/Scripts/sample-parameters.json', '-logFile', '/home/max/Github/guidewire-simulation/Scripts/example-log.txt', '-batchmode', '-nographics'], returncode=0)"
      ]
     },
     "execution_count": 4,
     "metadata": {},
     "output_type": "execute_result"
    }
   ],
   "source": [
    "parameter_path = \"/home/max/Github/guidewire-simulation/Scripts/sample-parameters.json\"\n",
    "log_path = \"/home/max/Github/guidewire-simulation/Scripts/example-log.txt\"\n",
    "unity_app_path = \"/home/max/Documents/Unity/guidewire-simulation-without-aorta.x86_64\"\n",
    "\n",
    "\n",
    "run_unity(unity_app_path, parameter_path, log_path, headless=True)"
   ]
  },
  {
   "cell_type": "markdown",
   "metadata": {},
   "source": [
    "# Read initial JSON parameters file"
   ]
  },
  {
   "cell_type": "code",
   "execution_count": 5,
   "metadata": {},
   "outputs": [
    {
     "name": "stdout",
     "output_type": "stream",
     "text": [
      "logFilePath: /home/max/Temp/Praktikum/experiments/\n",
      "constraintSolverSteps: 1000\n",
      "timeStep: 0.01\n",
      "displacement: 1.0\n",
      "rodElementLength: 10.0\n",
      "guidewireLength: 300.0\n",
      "numberRodElements: 10\n",
      "totalMass: 1.0\n",
      "guidewireOffset: -100.0\n",
      "position: {'x': 0.0, 'y': 0.0, 'z': 0.0}\n",
      "scale: {'x': 1.0, 'y': 1.0, 'z': 1.0}\n",
      "rotation: {'x': 0.0, 'y': 0.0, 'z': 0.0}\n",
      "bendStiffness: 1.0\n",
      "stretchStiffness: 1.0\n",
      "sphereRadius: 5.0\n",
      "collisionMargin: 5\n",
      "collisionStiffness: 1e-05\n",
      "deltaThreshold: 0.0005\n"
     ]
    }
   ],
   "source": [
    "parameters = read_json_file(\"/home/max/Github/guidewire-simulation/Scripts/sample-parameters.json\")\n",
    "\n",
    "for key in parameters.keys():\n",
    "    print(f\"{key}: {parameters[key]}\")"
   ]
  },
  {
   "cell_type": "markdown",
   "metadata": {},
   "source": [
    "# Experiment loop"
   ]
  },
  {
   "cell_type": "code",
   "execution_count": 6,
   "metadata": {},
   "outputs": [],
   "source": [
    "def run_expriment(path, name, parameters):\n",
    "    current_folder = os.path.join(path, name)\n",
    "    parameter_path = os.path.join(current_folder, \"parameters.json\")\n",
    "    log_path = os.path.join(current_folder, \"log.txt\")\n",
    "    \n",
    "    # create a new folder for each experiment\n",
    "    os.makedirs(current_folder, exist_ok=True)\n",
    "    \n",
    "    # save the parameters to a JSON file\n",
    "    parameters[\"logFilePath\"] = current_folder + \"/\"\n",
    "    save_json_file(parameter_path, parameters)\n",
    "    \n",
    "    # run the Unity application\n",
    "    run_unity(unity_app_path, parameter_path, log_path)\n",
    "\n",
    "def prepare_experiment(name):\n",
    "    experiment_folder = os.path.join(PATH, name)\n",
    "    os.makedirs(experiment_folder, exist_ok=True)\n",
    "    return experiment_folder, name"
   ]
  },
  {
   "cell_type": "markdown",
   "metadata": {},
   "source": [
    "# Constraint solver steps"
   ]
  },
  {
   "cell_type": "code",
   "execution_count": 7,
   "metadata": {},
   "outputs": [
    {
     "name": "stdout",
     "output_type": "stream",
     "text": [
      "Running Unity with the following command:Running Unity with the following command:Running Unity with the following command:Running Unity with the following command:\n",
      "\n",
      "/home/max/Documents/Unity/guidewire-simulation-without-aorta.x86_64 -parameters /home/max/Temp/Praktikum/experiments-new/constraint_solver_steps_0/constraint_solver_steps_0_300/parameters.json -logFile /home/max/Temp/Praktikum/experiments-new/constraint_solver_steps_0/constraint_solver_steps_0_300/log.txt\n",
      "\n",
      "/home/max/Documents/Unity/guidewire-simulation-without-aorta.x86_64 -parameters /home/max/Temp/Praktikum/experiments-new/constraint_solver_steps_0/constraint_solver_steps_0_400/parameters.json -logFile /home/max/Temp/Praktikum/experiments-new/constraint_solver_steps_0/constraint_solver_steps_0_400/log.txt\n",
      "/home/max/Documents/Unity/guidewire-simulation-without-aorta.x86_64 -parameters /home/max/Temp/Praktikum/experiments-new/constraint_solver_steps_0/constraint_solver_steps_0_200/parameters.json -logFile /home/max/Temp/Praktikum/experiments-new/constraint_solver_steps_0/constraint_solver_steps_0_200/log.txt\n",
      "/home/max/Documents/Unity/guidewire-simulation-without-aorta.x86_64 -parameters /home/max/Temp/Praktikum/experiments-new/constraint_solver_steps_0/constraint_solver_steps_0_100/parameters.json -logFile /home/max/Temp/Praktikum/experiments-new/constraint_solver_steps_0/constraint_solver_steps_0_100/log.txt\n",
      "\n"
     ]
    },
    {
     "name": "stdout",
     "output_type": "stream",
     "text": [
      "Unity process finished with exit code: -11\n",
      "Running Unity with the following command:\n",
      "/home/max/Documents/Unity/guidewire-simulation-without-aorta.x86_64 -parameters /home/max/Temp/Praktikum/experiments-new/constraint_solver_steps_0/constraint_solver_steps_0_500/parameters.json -logFile /home/max/Temp/Praktikum/experiments-new/constraint_solver_steps_0/constraint_solver_steps_0_500/log.txt\n",
      "Unity process finished with exit code: -11\n",
      "Running Unity with the following command:\n",
      "/home/max/Documents/Unity/guidewire-simulation-without-aorta.x86_64 -parameters /home/max/Temp/Praktikum/experiments-new/constraint_solver_steps_0/constraint_solver_steps_0_600/parameters.json -logFile /home/max/Temp/Praktikum/experiments-new/constraint_solver_steps_0/constraint_solver_steps_0_600/log.txt\n",
      "Unity process finished with exit code: -11\n",
      "Running Unity with the following command:\n",
      "/home/max/Documents/Unity/guidewire-simulation-without-aorta.x86_64 -parameters /home/max/Temp/Praktikum/experiments-new/constraint_solver_steps_0/constraint_solver_steps_0_700/parameters.json -logFile /home/max/Temp/Praktikum/experiments-new/constraint_solver_steps_0/constraint_solver_steps_0_700/log.txt\n",
      "Unity process finished with exit code: -11\n",
      "Running Unity with the following command:\n",
      "/home/max/Documents/Unity/guidewire-simulation-without-aorta.x86_64 -parameters /home/max/Temp/Praktikum/experiments-new/constraint_solver_steps_0/constraint_solver_steps_0_800/parameters.json -logFile /home/max/Temp/Praktikum/experiments-new/constraint_solver_steps_0/constraint_solver_steps_0_800/log.txt\n",
      "Unity process finished with exit code: -11\n",
      "Running Unity with the following command:\n",
      "/home/max/Documents/Unity/guidewire-simulation-without-aorta.x86_64 -parameters /home/max/Temp/Praktikum/experiments-new/constraint_solver_steps_0/constraint_solver_steps_0_900/parameters.json -logFile /home/max/Temp/Praktikum/experiments-new/constraint_solver_steps_0/constraint_solver_steps_0_900/log.txt\n",
      "Unity process finished with exit code: -11\n",
      "Running Unity with the following command:\n",
      "/home/max/Documents/Unity/guidewire-simulation-without-aorta.x86_64 -parameters /home/max/Temp/Praktikum/experiments-new/constraint_solver_steps_0/constraint_solver_steps_0_1000/parameters.json -logFile /home/max/Temp/Praktikum/experiments-new/constraint_solver_steps_0/constraint_solver_steps_0_1000/log.txt\n",
      "Unity process finished with exit code: -11\n",
      "Unity process finished with exit code: -11\n",
      "Unity process finished with exit code: -11\n",
      "Unity process finished with exit code: -11\n"
     ]
    }
   ],
   "source": [
    "constraint_solver_steps = np.arange(100,1100,100)#[100, 200, 300, 400, 500]\n",
    "\n",
    "# repeat ten times to get some statistics\n",
    "for i in range(1):\n",
    "    experiment_folder, name = prepare_experiment(f\"constraint_solver_steps_{i}\")\n",
    "\n",
    "    def temp_fun(css):\n",
    "        parametes_new = parameters.copy()\n",
    "        parametes_new[\"constraintSolverSteps\"] = int(css)\n",
    "        run_expriment(experiment_folder, name+f\"_{css}\", parametes_new)\n",
    "\n",
    "    with mp.Pool(4) as p:\n",
    "        p.map(temp_fun, constraint_solver_steps)"
   ]
  },
  {
   "cell_type": "code",
   "execution_count": 8,
   "metadata": {},
   "outputs": [
    {
     "name": "stdout",
     "output_type": "stream",
     "text": [
      "logFilePath: /home/max/Temp/Praktikum/experiments/\n",
      "constraintSolverSteps: 1000\n",
      "timeStep: 0.01\n",
      "displacement: 1.0\n",
      "rodElementLength: 10.0\n",
      "guidewireLength: 300.0\n",
      "numberRodElements: 10\n",
      "totalMass: 1.0\n",
      "guidewireOffset: -100.0\n",
      "position: {'x': 0.0, 'y': 0.0, 'z': 0.0}\n",
      "scale: {'x': 1.0, 'y': 1.0, 'z': 1.0}\n",
      "rotation: {'x': 0.0, 'y': 0.0, 'z': 0.0}\n",
      "bendStiffness: 1.0\n",
      "stretchStiffness: 1.0\n",
      "sphereRadius: 5.0\n",
      "collisionMargin: 5\n",
      "collisionStiffness: 1e-05\n",
      "deltaThreshold: 0.0005\n"
     ]
    }
   ],
   "source": [
    "parameters = read_json_file(\"/home/max/Github/guidewire-simulation/Scripts/sample-parameters.json\")\n",
    "\n",
    "for key in parameters.keys():\n",
    "    print(f\"{key}: {parameters[key]}\")"
   ]
  },
  {
   "cell_type": "markdown",
   "metadata": {},
   "source": [
    "# Time steps"
   ]
  },
  {
   "cell_type": "code",
   "execution_count": 9,
   "metadata": {},
   "outputs": [
    {
     "name": "stdout",
     "output_type": "stream",
     "text": [
      "Running Unity with the following command:Running Unity with the following command:Running Unity with the following command:\n",
      "\n",
      "\n",
      "/home/max/Documents/Unity/guidewire-simulation-without-aorta.x86_64 -parameters /home/max/Temp/Praktikum/experiments-new/time_steps_0/time_steps_0_0.0001/parameters.json -logFile /home/max/Temp/Praktikum/experiments-new/time_steps_0/time_steps_0_0.0001/log.txt/home/max/Documents/Unity/guidewire-simulation-without-aorta.x86_64 -parameters /home/max/Temp/Praktikum/experiments-new/time_steps_0/time_steps_0_0.0002782559402207126/parameters.json -logFile /home/max/Temp/Praktikum/experiments-new/time_steps_0/time_steps_0_0.0002782559402207126/log.txt/home/max/Documents/Unity/guidewire-simulation-without-aorta.x86_64 -parameters /home/max/Temp/Praktikum/experiments-new/time_steps_0/time_steps_0_0.000774263682681127/parameters.json -logFile /home/max/Temp/Praktikum/experiments-new/time_steps_0/time_steps_0_0.000774263682681127/log.txt\n",
      "\n",
      "\n",
      "Running Unity with the following command:\n",
      "/home/max/Documents/Unity/guidewire-simulation-without-aorta.x86_64 -parameters /home/max/Temp/Praktikum/experiments-new/time_steps_0/time_steps_0_0.002154434690031882/parameters.json -logFile /home/max/Temp/Praktikum/experiments-new/time_steps_0/time_steps_0_0.002154434690031882/log.txt\n",
      "Unity process finished with exit code: -11\n",
      "Running Unity with the following command:\n",
      "/home/max/Documents/Unity/guidewire-simulation-without-aorta.x86_64 -parameters /home/max/Temp/Praktikum/experiments-new/time_steps_0/time_steps_0_0.005994842503189409/parameters.json -logFile /home/max/Temp/Praktikum/experiments-new/time_steps_0/time_steps_0_0.005994842503189409/log.txt\n",
      "Unity process finished with exit code: -11\n",
      "Running Unity with the following command:\n",
      "/home/max/Documents/Unity/guidewire-simulation-without-aorta.x86_64 -parameters /home/max/Temp/Praktikum/experiments-new/time_steps_0/time_steps_0_0.016681005372000592/parameters.json -logFile /home/max/Temp/Praktikum/experiments-new/time_steps_0/time_steps_0_0.016681005372000592/log.txt\n",
      "Unity process finished with exit code: -11\n",
      "Running Unity with the following command:\n",
      "/home/max/Documents/Unity/guidewire-simulation-without-aorta.x86_64 -parameters /home/max/Temp/Praktikum/experiments-new/time_steps_0/time_steps_0_0.046415888336127774/parameters.json -logFile /home/max/Temp/Praktikum/experiments-new/time_steps_0/time_steps_0_0.046415888336127774/log.txt\n",
      "Unity process finished with exit code: -11\n",
      "Running Unity with the following command:\n",
      "/home/max/Documents/Unity/guidewire-simulation-without-aorta.x86_64 -parameters /home/max/Temp/Praktikum/experiments-new/time_steps_0/time_steps_0_0.12915496650148828/parameters.json -logFile /home/max/Temp/Praktikum/experiments-new/time_steps_0/time_steps_0_0.12915496650148828/log.txt\n",
      "Unity process finished with exit code: -11\n",
      "Running Unity with the following command:\n",
      "/home/max/Documents/Unity/guidewire-simulation-without-aorta.x86_64 -parameters /home/max/Temp/Praktikum/experiments-new/time_steps_0/time_steps_0_0.3593813663804626/parameters.json -logFile /home/max/Temp/Praktikum/experiments-new/time_steps_0/time_steps_0_0.3593813663804626/log.txt\n",
      "Unity process finished with exit code: -11\n",
      "Running Unity with the following command:\n",
      "/home/max/Documents/Unity/guidewire-simulation-without-aorta.x86_64 -parameters /home/max/Temp/Praktikum/experiments-new/time_steps_0/time_steps_0_1.0/parameters.json -logFile /home/max/Temp/Praktikum/experiments-new/time_steps_0/time_steps_0_1.0/log.txt\n",
      "Unity process finished with exit code: -11\n",
      "Unity process finished with exit code: -11\n",
      "Unity process finished with exit code: -11\n",
      "Unity process finished with exit code: -11\n"
     ]
    }
   ],
   "source": [
    "#timesteps = [0.0001, 0.001, 0.01, 0.1, 1.0]\n",
    "timesteps = np.logspace(-4, 0, 10)\n",
    "\n",
    "\n",
    "for i in range(1):\n",
    "    experiment_folder, name = prepare_experiment(f\"time_steps_{i}\")\n",
    "    \n",
    "    def temp_fun(t):\n",
    "        parametes_new = parameters.copy()\n",
    "        parametes_new[\"timeStep\"] = t\n",
    "        run_expriment(experiment_folder, name + f\"_{t}\", parametes_new)\n",
    "\n",
    "    with mp.Pool(4) as p:\n",
    "        p.map(temp_fun, timesteps)"
   ]
  },
  {
   "cell_type": "code",
   "execution_count": null,
   "metadata": {},
   "outputs": [],
   "source": [
    "parameters = read_json_file(\"/home/max/Github/guidewire-simulation/Scripts/sample-parameters.json\")\n",
    "\n",
    "for key in parameters.keys():\n",
    "    print(f\"{key}: {parameters[key]}\")\n",
    "    \n",
    "parameters[\"bendStiffness\"] = 0.1\n",
    "parameters[\"stretchStiffness\"] = 0.1\n",
    "parameters[\"collisionStiffness\"] = 0.00001\n",
    "parameters[\"collisionMargin\"] = 5\n",
    "parameters[\"guidewireOffset\"] = -799"
   ]
  },
  {
   "cell_type": "markdown",
   "metadata": {},
   "source": [
    "# Numer of Rod Elements"
   ]
  },
  {
   "cell_type": "code",
   "execution_count": null,
   "metadata": {},
   "outputs": [
    {
     "name": "stdout",
     "output_type": "stream",
     "text": [
      "Running Unity with the following command:Running Unity with the following command:Running Unity with the following command:\n",
      "\n",
      "\n",
      "/home/max/Documents/Unity/guidewire-simulation-static-transversal.x86_64 -parameters /home/max/Temp/Praktikum/experiments-transversal/rod_elements_0/rod_elements_0_20.0/parameters.json -logFile /home/max/Temp/Praktikum/experiments-transversal/rod_elements_0/rod_elements_0_20.0/log.txt/home/max/Documents/Unity/guidewire-simulation-static-transversal.x86_64 -parameters /home/max/Temp/Praktikum/experiments-transversal/rod_elements_0/rod_elements_0_10.0/parameters.json -logFile /home/max/Temp/Praktikum/experiments-transversal/rod_elements_0/rod_elements_0_10.0/log.txt/home/max/Documents/Unity/guidewire-simulation-static-transversal.x86_64 -parameters /home/max/Temp/Praktikum/experiments-transversal/rod_elements_0/rod_elements_0_30.0/parameters.json -logFile /home/max/Temp/Praktikum/experiments-transversal/rod_elements_0/rod_elements_0_30.0/log.txt\n",
      "\n",
      "\n",
      "Running Unity with the following command:\n",
      "/home/max/Documents/Unity/guidewire-simulation-static-transversal.x86_64 -parameters /home/max/Temp/Praktikum/experiments-transversal/rod_elements_0/rod_elements_0_40.0/parameters.json -logFile /home/max/Temp/Praktikum/experiments-transversal/rod_elements_0/rod_elements_0_40.0/log.txt\n",
      "Unity process finished with exit code: -11\n",
      "Running Unity with the following command:\n",
      "/home/max/Documents/Unity/guidewire-simulation-static-transversal.x86_64 -parameters /home/max/Temp/Praktikum/experiments-transversal/rod_elements_0/rod_elements_0_50.0/parameters.json -logFile /home/max/Temp/Praktikum/experiments-transversal/rod_elements_0/rod_elements_0_50.0/log.txt\n",
      "Unity process finished with exit code: -11\n",
      "Running Unity with the following command:\n",
      "/home/max/Documents/Unity/guidewire-simulation-static-transversal.x86_64 -parameters /home/max/Temp/Praktikum/experiments-transversal/rod_elements_0/rod_elements_0_60.0/parameters.json -logFile /home/max/Temp/Praktikum/experiments-transversal/rod_elements_0/rod_elements_0_60.0/log.txt\n",
      "Unity process finished with exit code: -11\n",
      "Running Unity with the following command:\n",
      "/home/max/Documents/Unity/guidewire-simulation-static-transversal.x86_64 -parameters /home/max/Temp/Praktikum/experiments-transversal/rod_elements_0/rod_elements_0_70.0/parameters.json -logFile /home/max/Temp/Praktikum/experiments-transversal/rod_elements_0/rod_elements_0_70.0/log.txt\n",
      "Unity process finished with exit code: -11\n",
      "Running Unity with the following command:\n",
      "/home/max/Documents/Unity/guidewire-simulation-static-transversal.x86_64 -parameters /home/max/Temp/Praktikum/experiments-transversal/rod_elements_0/rod_elements_0_80.0/parameters.json -logFile /home/max/Temp/Praktikum/experiments-transversal/rod_elements_0/rod_elements_0_80.0/log.txt\n",
      "Unity process finished with exit code: -11\n",
      "Running Unity with the following command:\n",
      "/home/max/Documents/Unity/guidewire-simulation-static-transversal.x86_64 -parameters /home/max/Temp/Praktikum/experiments-transversal/rod_elements_0/rod_elements_0_90.0/parameters.json -logFile /home/max/Temp/Praktikum/experiments-transversal/rod_elements_0/rod_elements_0_90.0/log.txt\n",
      "Unity process finished with exit code: -11\n",
      "Running Unity with the following command:\n",
      "/home/max/Documents/Unity/guidewire-simulation-static-transversal.x86_64 -parameters /home/max/Temp/Praktikum/experiments-transversal/rod_elements_0/rod_elements_0_100.0/parameters.json -logFile /home/max/Temp/Praktikum/experiments-transversal/rod_elements_0/rod_elements_0_100.0/log.txt\n",
      "Unity process finished with exit code: -11\n",
      "Unity process finished with exit code: -11\n",
      "Unity process finished with exit code: -11\n",
      "Unity process finished with exit code: -11\n",
      "Running Unity with the following command:Running Unity with the following command:Running Unity with the following command:\n",
      "/home/max/Documents/Unity/guidewire-simulation-static-transversal.x86_64 -parameters /home/max/Temp/Praktikum/experiments-transversal/rod_elements_1/rod_elements_1_30.0/parameters.json -logFile /home/max/Temp/Praktikum/experiments-transversal/rod_elements_1/rod_elements_1_30.0/log.txt\n",
      "\n",
      "\n",
      "/home/max/Documents/Unity/guidewire-simulation-static-transversal.x86_64 -parameters /home/max/Temp/Praktikum/experiments-transversal/rod_elements_1/rod_elements_1_20.0/parameters.json -logFile /home/max/Temp/Praktikum/experiments-transversal/rod_elements_1/rod_elements_1_20.0/log.txt/home/max/Documents/Unity/guidewire-simulation-static-transversal.x86_64 -parameters /home/max/Temp/Praktikum/experiments-transversal/rod_elements_1/rod_elements_1_10.0/parameters.json -logFile /home/max/Temp/Praktikum/experiments-transversal/rod_elements_1/rod_elements_1_10.0/log.txt\n",
      "\n",
      "Running Unity with the following command:\n",
      "/home/max/Documents/Unity/guidewire-simulation-static-transversal.x86_64 -parameters /home/max/Temp/Praktikum/experiments-transversal/rod_elements_1/rod_elements_1_40.0/parameters.json -logFile /home/max/Temp/Praktikum/experiments-transversal/rod_elements_1/rod_elements_1_40.0/log.txt\n",
      "Unity process finished with exit code: -11\n",
      "Running Unity with the following command:\n",
      "/home/max/Documents/Unity/guidewire-simulation-static-transversal.x86_64 -parameters /home/max/Temp/Praktikum/experiments-transversal/rod_elements_1/rod_elements_1_50.0/parameters.json -logFile /home/max/Temp/Praktikum/experiments-transversal/rod_elements_1/rod_elements_1_50.0/log.txt\n",
      "Unity process finished with exit code: -11\n",
      "Running Unity with the following command:\n",
      "/home/max/Documents/Unity/guidewire-simulation-static-transversal.x86_64 -parameters /home/max/Temp/Praktikum/experiments-transversal/rod_elements_1/rod_elements_1_60.0/parameters.json -logFile /home/max/Temp/Praktikum/experiments-transversal/rod_elements_1/rod_elements_1_60.0/log.txt\n",
      "Unity process finished with exit code: -11\n",
      "Running Unity with the following command:\n",
      "/home/max/Documents/Unity/guidewire-simulation-static-transversal.x86_64 -parameters /home/max/Temp/Praktikum/experiments-transversal/rod_elements_1/rod_elements_1_70.0/parameters.json -logFile /home/max/Temp/Praktikum/experiments-transversal/rod_elements_1/rod_elements_1_70.0/log.txt\n",
      "Unity process finished with exit code: -11\n",
      "Running Unity with the following command:\n",
      "/home/max/Documents/Unity/guidewire-simulation-static-transversal.x86_64 -parameters /home/max/Temp/Praktikum/experiments-transversal/rod_elements_1/rod_elements_1_80.0/parameters.json -logFile /home/max/Temp/Praktikum/experiments-transversal/rod_elements_1/rod_elements_1_80.0/log.txt\n",
      "Unity process finished with exit code: -11\n",
      "Running Unity with the following command:\n",
      "/home/max/Documents/Unity/guidewire-simulation-static-transversal.x86_64 -parameters /home/max/Temp/Praktikum/experiments-transversal/rod_elements_1/rod_elements_1_90.0/parameters.json -logFile /home/max/Temp/Praktikum/experiments-transversal/rod_elements_1/rod_elements_1_90.0/log.txt\n",
      "Unity process finished with exit code: -11\n",
      "Running Unity with the following command:\n",
      "/home/max/Documents/Unity/guidewire-simulation-static-transversal.x86_64 -parameters /home/max/Temp/Praktikum/experiments-transversal/rod_elements_1/rod_elements_1_100.0/parameters.json -logFile /home/max/Temp/Praktikum/experiments-transversal/rod_elements_1/rod_elements_1_100.0/log.txt\n",
      "Unity process finished with exit code: -11\n",
      "Unity process finished with exit code: -11\n",
      "Unity process finished with exit code: -11\n",
      "Unity process finished with exit code: -11\n",
      "Running Unity with the following command:Running Unity with the following command:Running Unity with the following command:\n",
      "/home/max/Documents/Unity/guidewire-simulation-static-transversal.x86_64 -parameters /home/max/Temp/Praktikum/experiments-transversal/rod_elements_2/rod_elements_2_20.0/parameters.json -logFile /home/max/Temp/Praktikum/experiments-transversal/rod_elements_2/rod_elements_2_20.0/log.txt\n",
      "\n",
      "\n",
      "/home/max/Documents/Unity/guidewire-simulation-static-transversal.x86_64 -parameters /home/max/Temp/Praktikum/experiments-transversal/rod_elements_2/rod_elements_2_30.0/parameters.json -logFile /home/max/Temp/Praktikum/experiments-transversal/rod_elements_2/rod_elements_2_30.0/log.txt/home/max/Documents/Unity/guidewire-simulation-static-transversal.x86_64 -parameters /home/max/Temp/Praktikum/experiments-transversal/rod_elements_2/rod_elements_2_10.0/parameters.json -logFile /home/max/Temp/Praktikum/experiments-transversal/rod_elements_2/rod_elements_2_10.0/log.txt\n",
      "\n",
      "Running Unity with the following command:\n",
      "/home/max/Documents/Unity/guidewire-simulation-static-transversal.x86_64 -parameters /home/max/Temp/Praktikum/experiments-transversal/rod_elements_2/rod_elements_2_40.0/parameters.json -logFile /home/max/Temp/Praktikum/experiments-transversal/rod_elements_2/rod_elements_2_40.0/log.txt\n",
      "Unity process finished with exit code: -11\n",
      "Running Unity with the following command:\n",
      "/home/max/Documents/Unity/guidewire-simulation-static-transversal.x86_64 -parameters /home/max/Temp/Praktikum/experiments-transversal/rod_elements_2/rod_elements_2_50.0/parameters.json -logFile /home/max/Temp/Praktikum/experiments-transversal/rod_elements_2/rod_elements_2_50.0/log.txt\n",
      "Unity process finished with exit code: -11\n",
      "Running Unity with the following command:\n",
      "/home/max/Documents/Unity/guidewire-simulation-static-transversal.x86_64 -parameters /home/max/Temp/Praktikum/experiments-transversal/rod_elements_2/rod_elements_2_60.0/parameters.json -logFile /home/max/Temp/Praktikum/experiments-transversal/rod_elements_2/rod_elements_2_60.0/log.txt\n",
      "Unity process finished with exit code: -11\n",
      "Running Unity with the following command:\n",
      "/home/max/Documents/Unity/guidewire-simulation-static-transversal.x86_64 -parameters /home/max/Temp/Praktikum/experiments-transversal/rod_elements_2/rod_elements_2_70.0/parameters.json -logFile /home/max/Temp/Praktikum/experiments-transversal/rod_elements_2/rod_elements_2_70.0/log.txt\n",
      "Unity process finished with exit code: -11\n",
      "Running Unity with the following command:\n",
      "/home/max/Documents/Unity/guidewire-simulation-static-transversal.x86_64 -parameters /home/max/Temp/Praktikum/experiments-transversal/rod_elements_2/rod_elements_2_80.0/parameters.json -logFile /home/max/Temp/Praktikum/experiments-transversal/rod_elements_2/rod_elements_2_80.0/log.txt\n",
      "Unity process finished with exit code: -11\n",
      "Running Unity with the following command:\n",
      "/home/max/Documents/Unity/guidewire-simulation-static-transversal.x86_64 -parameters /home/max/Temp/Praktikum/experiments-transversal/rod_elements_2/rod_elements_2_90.0/parameters.json -logFile /home/max/Temp/Praktikum/experiments-transversal/rod_elements_2/rod_elements_2_90.0/log.txt\n",
      "Unity process finished with exit code: -11\n",
      "Running Unity with the following command:\n",
      "/home/max/Documents/Unity/guidewire-simulation-static-transversal.x86_64 -parameters /home/max/Temp/Praktikum/experiments-transversal/rod_elements_2/rod_elements_2_100.0/parameters.json -logFile /home/max/Temp/Praktikum/experiments-transversal/rod_elements_2/rod_elements_2_100.0/log.txt\n",
      "Unity process finished with exit code: -11\n",
      "Unity process finished with exit code: -11\n",
      "Unity process finished with exit code: -11\n",
      "Unity process finished with exit code: -11\n"
     ]
    }
   ],
   "source": [
    "elements = np.arange(10,110,10).astype(\"float\")\n",
    "\n",
    "for i in range(1):\n",
    "    experiment_folder, name = prepare_experiment(f\"rod_elements_{i}\")\n",
    "\n",
    "    def temp_fun(e):\n",
    "        parametes_new = parameters.copy()\n",
    "        parametes_new[\"numberRodElements\"] = e\n",
    "        run_expriment(experiment_folder, name + f\"_{e}\", parametes_new)\n",
    "\n",
    "    with mp.Pool(4) as p:\n",
    "        p.map(temp_fun, elements)"
   ]
  },
  {
   "cell_type": "code",
   "execution_count": null,
   "metadata": {},
   "outputs": [],
   "source": [
    "parameters = read_json_file(\"/home/max/Github/guidewire-simulation/Scripts/sample-parameters.json\")\n",
    "\n",
    "for key in parameters.keys():\n",
    "    print(f\"{key}: {parameters[key]}\")\n",
    "    \n",
    "parameters[\"bendStiffness\"] = 0.1\n",
    "parameters[\"stretchStiffness\"] = 0.1\n",
    "parameters[\"collisionStiffness\"] = 0.00001\n",
    "parameters[\"collisionMargin\"] = 5\n",
    "parameters[\"guidewireOffset\"] = -799"
   ]
  },
  {
   "cell_type": "markdown",
   "metadata": {},
   "source": [
    "# Displacement"
   ]
  },
  {
   "cell_type": "code",
   "execution_count": null,
   "metadata": {},
   "outputs": [
    {
     "name": "stdout",
     "output_type": "stream",
     "text": [
      "Running Unity with the following command:\n",
      "Running Unity with the following command:Running Unity with the following command:\n",
      "/home/max/Documents/Unity/guidewire-simulation-static-transversal.x86_64 -parameters /home/max/Temp/Praktikum/experiments-transversal/displacemen_0/displacemen_0_1.118888888888889/parameters.json -logFile /home/max/Temp/Praktikum/experiments-transversal/displacemen_0/displacemen_0_1.118888888888889/log.txt\n",
      "/home/max/Documents/Unity/guidewire-simulation-static-transversal.x86_64 -parameters /home/max/Temp/Praktikum/experiments-transversal/displacemen_0/displacemen_0_0.01/parameters.json -logFile /home/max/Temp/Praktikum/experiments-transversal/displacemen_0/displacemen_0_0.01/log.txt\n",
      "\n",
      "/home/max/Documents/Unity/guidewire-simulation-static-transversal.x86_64 -parameters /home/max/Temp/Praktikum/experiments-transversal/displacemen_0/displacemen_0_0.5644444444444445/parameters.json -logFile /home/max/Temp/Praktikum/experiments-transversal/displacemen_0/displacemen_0_0.5644444444444445/log.txt\n",
      "Running Unity with the following command:\n",
      "/home/max/Documents/Unity/guidewire-simulation-static-transversal.x86_64 -parameters /home/max/Temp/Praktikum/experiments-transversal/displacemen_0/displacemen_0_1.6733333333333336/parameters.json -logFile /home/max/Temp/Praktikum/experiments-transversal/displacemen_0/displacemen_0_1.6733333333333336/log.txt\n",
      "Unity process finished with exit code: -11\n",
      "Running Unity with the following command:\n",
      "/home/max/Documents/Unity/guidewire-simulation-static-transversal.x86_64 -parameters /home/max/Temp/Praktikum/experiments-transversal/displacemen_0/displacemen_0_2.227777777777778/parameters.json -logFile /home/max/Temp/Praktikum/experiments-transversal/displacemen_0/displacemen_0_2.227777777777778/log.txt\n",
      "Unity process finished with exit code: -11\n",
      "Running Unity with the following command:\n",
      "/home/max/Documents/Unity/guidewire-simulation-static-transversal.x86_64 -parameters /home/max/Temp/Praktikum/experiments-transversal/displacemen_0/displacemen_0_2.7822222222222224/parameters.json -logFile /home/max/Temp/Praktikum/experiments-transversal/displacemen_0/displacemen_0_2.7822222222222224/log.txt\n",
      "Unity process finished with exit code: -11\n",
      "Running Unity with the following command:\n",
      "/home/max/Documents/Unity/guidewire-simulation-static-transversal.x86_64 -parameters /home/max/Temp/Praktikum/experiments-transversal/displacemen_0/displacemen_0_3.336666666666667/parameters.json -logFile /home/max/Temp/Praktikum/experiments-transversal/displacemen_0/displacemen_0_3.336666666666667/log.txt\n",
      "Unity process finished with exit code: -11\n",
      "Running Unity with the following command:\n",
      "/home/max/Documents/Unity/guidewire-simulation-static-transversal.x86_64 -parameters /home/max/Temp/Praktikum/experiments-transversal/displacemen_0/displacemen_0_3.8911111111111114/parameters.json -logFile /home/max/Temp/Praktikum/experiments-transversal/displacemen_0/displacemen_0_3.8911111111111114/log.txt\n",
      "Unity process finished with exit code: -11\n",
      "Running Unity with the following command:\n",
      "/home/max/Documents/Unity/guidewire-simulation-static-transversal.x86_64 -parameters /home/max/Temp/Praktikum/experiments-transversal/displacemen_0/displacemen_0_4.445555555555556/parameters.json -logFile /home/max/Temp/Praktikum/experiments-transversal/displacemen_0/displacemen_0_4.445555555555556/log.txt\n",
      "Unity process finished with exit code: -11\n",
      "Running Unity with the following command:\n",
      "/home/max/Documents/Unity/guidewire-simulation-static-transversal.x86_64 -parameters /home/max/Temp/Praktikum/experiments-transversal/displacemen_0/displacemen_0_5.0/parameters.json -logFile /home/max/Temp/Praktikum/experiments-transversal/displacemen_0/displacemen_0_5.0/log.txt\n",
      "Unity process finished with exit code: -11\n",
      "Unity process finished with exit code: -11\n",
      "Unity process finished with exit code: -11\n",
      "Unity process finished with exit code: -11\n",
      "Running Unity with the following command:Running Unity with the following command:Running Unity with the following command:\n",
      "\n",
      "\n",
      "/home/max/Documents/Unity/guidewire-simulation-static-transversal.x86_64 -parameters /home/max/Temp/Praktikum/experiments-transversal/displacemen_1/displacemen_1_0.5644444444444445/parameters.json -logFile /home/max/Temp/Praktikum/experiments-transversal/displacemen_1/displacemen_1_0.5644444444444445/log.txt/home/max/Documents/Unity/guidewire-simulation-static-transversal.x86_64 -parameters /home/max/Temp/Praktikum/experiments-transversal/displacemen_1/displacemen_1_1.118888888888889/parameters.json -logFile /home/max/Temp/Praktikum/experiments-transversal/displacemen_1/displacemen_1_1.118888888888889/log.txt/home/max/Documents/Unity/guidewire-simulation-static-transversal.x86_64 -parameters /home/max/Temp/Praktikum/experiments-transversal/displacemen_1/displacemen_1_0.01/parameters.json -logFile /home/max/Temp/Praktikum/experiments-transversal/displacemen_1/displacemen_1_0.01/log.txt\n",
      "\n",
      "\n",
      "Running Unity with the following command:\n",
      "/home/max/Documents/Unity/guidewire-simulation-static-transversal.x86_64 -parameters /home/max/Temp/Praktikum/experiments-transversal/displacemen_1/displacemen_1_1.6733333333333336/parameters.json -logFile /home/max/Temp/Praktikum/experiments-transversal/displacemen_1/displacemen_1_1.6733333333333336/log.txt\n",
      "Unity process finished with exit code: -11\n",
      "Running Unity with the following command:\n",
      "/home/max/Documents/Unity/guidewire-simulation-static-transversal.x86_64 -parameters /home/max/Temp/Praktikum/experiments-transversal/displacemen_1/displacemen_1_2.227777777777778/parameters.json -logFile /home/max/Temp/Praktikum/experiments-transversal/displacemen_1/displacemen_1_2.227777777777778/log.txt\n",
      "Unity process finished with exit code: -11\n",
      "Running Unity with the following command:\n",
      "/home/max/Documents/Unity/guidewire-simulation-static-transversal.x86_64 -parameters /home/max/Temp/Praktikum/experiments-transversal/displacemen_1/displacemen_1_2.7822222222222224/parameters.json -logFile /home/max/Temp/Praktikum/experiments-transversal/displacemen_1/displacemen_1_2.7822222222222224/log.txt\n",
      "Unity process finished with exit code: -11\n",
      "Running Unity with the following command:\n",
      "/home/max/Documents/Unity/guidewire-simulation-static-transversal.x86_64 -parameters /home/max/Temp/Praktikum/experiments-transversal/displacemen_1/displacemen_1_3.336666666666667/parameters.json -logFile /home/max/Temp/Praktikum/experiments-transversal/displacemen_1/displacemen_1_3.336666666666667/log.txt\n",
      "Unity process finished with exit code: -11\n",
      "Running Unity with the following command:\n",
      "/home/max/Documents/Unity/guidewire-simulation-static-transversal.x86_64 -parameters /home/max/Temp/Praktikum/experiments-transversal/displacemen_1/displacemen_1_3.8911111111111114/parameters.json -logFile /home/max/Temp/Praktikum/experiments-transversal/displacemen_1/displacemen_1_3.8911111111111114/log.txt\n",
      "Unity process finished with exit code: -11\n",
      "Running Unity with the following command:\n",
      "/home/max/Documents/Unity/guidewire-simulation-static-transversal.x86_64 -parameters /home/max/Temp/Praktikum/experiments-transversal/displacemen_1/displacemen_1_4.445555555555556/parameters.json -logFile /home/max/Temp/Praktikum/experiments-transversal/displacemen_1/displacemen_1_4.445555555555556/log.txt\n",
      "Unity process finished with exit code: -11\n",
      "Running Unity with the following command:\n",
      "/home/max/Documents/Unity/guidewire-simulation-static-transversal.x86_64 -parameters /home/max/Temp/Praktikum/experiments-transversal/displacemen_1/displacemen_1_5.0/parameters.json -logFile /home/max/Temp/Praktikum/experiments-transversal/displacemen_1/displacemen_1_5.0/log.txt\n",
      "Unity process finished with exit code: -11\n",
      "Unity process finished with exit code: -11\n",
      "Unity process finished with exit code: -11\n",
      "Unity process finished with exit code: -11\n",
      "Running Unity with the following command:Running Unity with the following command:Running Unity with the following command:\n",
      "\n",
      "\n",
      "/home/max/Documents/Unity/guidewire-simulation-static-transversal.x86_64 -parameters /home/max/Temp/Praktikum/experiments-transversal/displacemen_2/displacemen_2_0.01/parameters.json -logFile /home/max/Temp/Praktikum/experiments-transversal/displacemen_2/displacemen_2_0.01/log.txt/home/max/Documents/Unity/guidewire-simulation-static-transversal.x86_64 -parameters /home/max/Temp/Praktikum/experiments-transversal/displacemen_2/displacemen_2_1.118888888888889/parameters.json -logFile /home/max/Temp/Praktikum/experiments-transversal/displacemen_2/displacemen_2_1.118888888888889/log.txt\n",
      "/home/max/Documents/Unity/guidewire-simulation-static-transversal.x86_64 -parameters /home/max/Temp/Praktikum/experiments-transversal/displacemen_2/displacemen_2_0.5644444444444445/parameters.json -logFile /home/max/Temp/Praktikum/experiments-transversal/displacemen_2/displacemen_2_0.5644444444444445/log.txt\n",
      "\n",
      "Running Unity with the following command:\n",
      "/home/max/Documents/Unity/guidewire-simulation-static-transversal.x86_64 -parameters /home/max/Temp/Praktikum/experiments-transversal/displacemen_2/displacemen_2_1.6733333333333336/parameters.json -logFile /home/max/Temp/Praktikum/experiments-transversal/displacemen_2/displacemen_2_1.6733333333333336/log.txt\n",
      "Unity process finished with exit code: -11\n",
      "Running Unity with the following command:\n",
      "/home/max/Documents/Unity/guidewire-simulation-static-transversal.x86_64 -parameters /home/max/Temp/Praktikum/experiments-transversal/displacemen_2/displacemen_2_2.227777777777778/parameters.json -logFile /home/max/Temp/Praktikum/experiments-transversal/displacemen_2/displacemen_2_2.227777777777778/log.txt\n",
      "Unity process finished with exit code: -11\n",
      "Running Unity with the following command:\n",
      "/home/max/Documents/Unity/guidewire-simulation-static-transversal.x86_64 -parameters /home/max/Temp/Praktikum/experiments-transversal/displacemen_2/displacemen_2_2.7822222222222224/parameters.json -logFile /home/max/Temp/Praktikum/experiments-transversal/displacemen_2/displacemen_2_2.7822222222222224/log.txt\n",
      "Unity process finished with exit code: -11\n",
      "Running Unity with the following command:\n",
      "/home/max/Documents/Unity/guidewire-simulation-static-transversal.x86_64 -parameters /home/max/Temp/Praktikum/experiments-transversal/displacemen_2/displacemen_2_3.336666666666667/parameters.json -logFile /home/max/Temp/Praktikum/experiments-transversal/displacemen_2/displacemen_2_3.336666666666667/log.txt\n",
      "Unity process finished with exit code: -11\n",
      "Running Unity with the following command:\n",
      "/home/max/Documents/Unity/guidewire-simulation-static-transversal.x86_64 -parameters /home/max/Temp/Praktikum/experiments-transversal/displacemen_2/displacemen_2_3.8911111111111114/parameters.json -logFile /home/max/Temp/Praktikum/experiments-transversal/displacemen_2/displacemen_2_3.8911111111111114/log.txt\n",
      "Unity process finished with exit code: -11\n",
      "Running Unity with the following command:\n",
      "/home/max/Documents/Unity/guidewire-simulation-static-transversal.x86_64 -parameters /home/max/Temp/Praktikum/experiments-transversal/displacemen_2/displacemen_2_4.445555555555556/parameters.json -logFile /home/max/Temp/Praktikum/experiments-transversal/displacemen_2/displacemen_2_4.445555555555556/log.txt\n",
      "Unity process finished with exit code: -11\n",
      "Running Unity with the following command:\n",
      "/home/max/Documents/Unity/guidewire-simulation-static-transversal.x86_64 -parameters /home/max/Temp/Praktikum/experiments-transversal/displacemen_2/displacemen_2_5.0/parameters.json -logFile /home/max/Temp/Praktikum/experiments-transversal/displacemen_2/displacemen_2_5.0/log.txt\n",
      "Unity process finished with exit code: -11\n",
      "Unity process finished with exit code: -11\n",
      "Unity process finished with exit code: -11\n",
      "Unity process finished with exit code: -11\n"
     ]
    }
   ],
   "source": [
    "elements = np.linspace(0.01,5, 10)\n",
    "\n",
    "\n",
    "for i in range(1):\n",
    "    experiment_folder, name = prepare_experiment(f\"displacemen_{i}\")\n",
    "\n",
    "    def temp_fun(e):\n",
    "        parametes_new = parameters.copy()\n",
    "        parametes_new[\"displacement\"] = e\n",
    "        run_expriment(experiment_folder, name + f\"_{e}\", parametes_new)\n",
    "\n",
    "    with mp.Pool(4) as p:\n",
    "        p.map(temp_fun, elements)"
   ]
  },
  {
   "cell_type": "code",
   "execution_count": null,
   "metadata": {},
   "outputs": [],
   "source": []
  },
  {
   "cell_type": "code",
   "execution_count": null,
   "metadata": {},
   "outputs": [],
   "source": []
  },
  {
   "cell_type": "code",
   "execution_count": null,
   "metadata": {},
   "outputs": [],
   "source": []
  },
  {
   "cell_type": "code",
   "execution_count": null,
   "metadata": {},
   "outputs": [],
   "source": []
  }
 ],
 "metadata": {
  "kernelspec": {
   "display_name": "work",
   "language": "python",
   "name": "python3"
  },
  "language_info": {
   "codemirror_mode": {
    "name": "ipython",
    "version": 3
   },
   "file_extension": ".py",
   "mimetype": "text/x-python",
   "name": "python",
   "nbconvert_exporter": "python",
   "pygments_lexer": "ipython3",
   "version": "3.11.9"
  }
 },
 "nbformat": 4,
 "nbformat_minor": 2
}
