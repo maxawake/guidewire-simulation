{
 "cells": [
  {
   "cell_type": "code",
   "execution_count": 1,
   "metadata": {},
   "outputs": [],
   "source": [
    "from utils import *\n",
    "import numpy as np\n",
    "\n",
    "path = \"/home/max/Temp/Praktikum/experiments\""
   ]
  },
  {
   "cell_type": "markdown",
   "metadata": {},
   "source": [
    "# Test experiment script"
   ]
  },
  {
   "cell_type": "code",
   "execution_count": 2,
   "metadata": {},
   "outputs": [
    {
     "name": "stdout",
     "output_type": "stream",
     "text": [
      "Running Unity with the following command:\n",
      "/home/max/Documents/Unity/guidewire-simulation.x86_64 -parameters /home/max/Github/guidewire-simulation/Scripts/sample-parameters.json -logFile /home/max/Github/guidewire-simulation/Scripts/example-log.txt -batchmode -nographics\n",
      "Unity process finished with exit code: 0\n"
     ]
    },
    {
     "data": {
      "text/plain": [
       "CompletedProcess(args=['/home/max/Documents/Unity/guidewire-simulation.x86_64', '-parameters', '/home/max/Github/guidewire-simulation/Scripts/sample-parameters.json', '-logFile', '/home/max/Github/guidewire-simulation/Scripts/example-log.txt', '-batchmode', '-nographics'], returncode=0)"
      ]
     },
     "execution_count": 2,
     "metadata": {},
     "output_type": "execute_result"
    }
   ],
   "source": [
    "parameter_path = \"/home/max/Github/guidewire-simulation/Scripts/sample-parameters.json\"\n",
    "log_path = \"/home/max/Github/guidewire-simulation/Scripts/example-log.txt\"\n",
    "\n",
    "run_unity(parameter_path, log_path, headless=True)"
   ]
  },
  {
   "cell_type": "markdown",
   "metadata": {},
   "source": [
    "# Read initial JSON parameters file"
   ]
  },
  {
   "cell_type": "code",
   "execution_count": 2,
   "metadata": {},
   "outputs": [
    {
     "name": "stdout",
     "output_type": "stream",
     "text": [
      "logFilePath: /home/max/Temp/Praktikum/experiments/\n",
      "constraintSolverSteps: 300\n",
      "timeStep: 0.1\n",
      "displacement: 1.0\n",
      "rodElementLength: 10.0\n",
      "guidewireLength: 1000.0\n",
      "numberRodElements: 30\n",
      "totalMass: 1.0\n",
      "guidewireOffset: -900.0\n",
      "position: {'x': 0.0, 'y': 0.0, 'z': 0.0}\n",
      "scale: {'x': 1.0, 'y': 1.0, 'z': 1.0}\n",
      "rotation: {'x': 0.0, 'y': 0.0, 'z': 0.0}\n",
      "bendStiffness: 1.0\n",
      "stretchStiffness: 1.0\n",
      "sphereRadius: 5.0\n",
      "collisionMargin: 0.01\n",
      "collisionStiffness: 0.0001\n"
     ]
    }
   ],
   "source": [
    "parameters = read_json_file(\"/home/max/Github/guidewire-simulation/Scripts/sample-parameters.json\")\n",
    "\n",
    "for key in parameters.keys():\n",
    "    print(f\"{key}: {parameters[key]}\")"
   ]
  },
  {
   "cell_type": "markdown",
   "metadata": {},
   "source": [
    "# Experiment loop"
   ]
  },
  {
   "cell_type": "code",
   "execution_count": 3,
   "metadata": {},
   "outputs": [],
   "source": [
    "def run_expriment(path, name, parameters):\n",
    "    current_folder = os.path.join(path, name)\n",
    "    parameter_path = os.path.join(current_folder, \"parameters.json\")\n",
    "    log_path = os.path.join(current_folder, \"log.txt\")\n",
    "    \n",
    "    # create a new folder for each experiment\n",
    "    os.makedirs(current_folder, exist_ok=True)\n",
    "    \n",
    "    # save the parameters to a JSON file\n",
    "    parameters[\"logFilePath\"] = current_folder + \"/\"\n",
    "    save_json_file(parameter_path, parameters)\n",
    "    \n",
    "    # run the Unity application\n",
    "    run_unity(parameter_path, log_path)\n",
    "\n",
    "def prepare_experiment(name):\n",
    "    experiment_folder = os.path.join(path, name)\n",
    "    os.makedirs(experiment_folder, exist_ok=True)\n",
    "    return experiment_folder, name"
   ]
  },
  {
   "cell_type": "markdown",
   "metadata": {},
   "source": [
    "# Constraint solver steps"
   ]
  },
  {
   "cell_type": "code",
   "execution_count": 4,
   "metadata": {},
   "outputs": [
    {
     "name": "stdout",
     "output_type": "stream",
     "text": [
      "Running Unity with the following command:\n",
      "/home/max/Documents/Unity/guidewire-simulation.x86_64 -parameters /home/max/Temp/Praktikum/experiments/constraint_solver_steps/constraint_solver_steps_100/parameters.json -logFile /home/max/Temp/Praktikum/experiments/constraint_solver_steps/constraint_solver_steps_100/log.txt\n",
      "Unity process finished with exit code: 0\n",
      "Running Unity with the following command:\n",
      "/home/max/Documents/Unity/guidewire-simulation.x86_64 -parameters /home/max/Temp/Praktikum/experiments/constraint_solver_steps/constraint_solver_steps_200/parameters.json -logFile /home/max/Temp/Praktikum/experiments/constraint_solver_steps/constraint_solver_steps_200/log.txt\n",
      "Unity process finished with exit code: 0\n",
      "Running Unity with the following command:\n",
      "/home/max/Documents/Unity/guidewire-simulation.x86_64 -parameters /home/max/Temp/Praktikum/experiments/constraint_solver_steps/constraint_solver_steps_300/parameters.json -logFile /home/max/Temp/Praktikum/experiments/constraint_solver_steps/constraint_solver_steps_300/log.txt\n",
      "Unity process finished with exit code: 0\n",
      "Running Unity with the following command:\n",
      "/home/max/Documents/Unity/guidewire-simulation.x86_64 -parameters /home/max/Temp/Praktikum/experiments/constraint_solver_steps/constraint_solver_steps_400/parameters.json -logFile /home/max/Temp/Praktikum/experiments/constraint_solver_steps/constraint_solver_steps_400/log.txt\n",
      "Unity process finished with exit code: 0\n",
      "Running Unity with the following command:\n",
      "/home/max/Documents/Unity/guidewire-simulation.x86_64 -parameters /home/max/Temp/Praktikum/experiments/constraint_solver_steps/constraint_solver_steps_500/parameters.json -logFile /home/max/Temp/Praktikum/experiments/constraint_solver_steps/constraint_solver_steps_500/log.txt\n",
      "Unity process finished with exit code: 0\n"
     ]
    }
   ],
   "source": [
    "parameters[\"logFilePath\"] = \"/home/max/Temp/Praktikum/\"\n",
    "parameters[\"constraintSolverSteps\"] = 300\n",
    "parameters[\"timeStep\"] = 0.1\n",
    "parameters[\"displacement\"] = 2.0\n",
    "parameters[\"rodElementLength\"] = 10.0\n",
    "parameters[\"guidewireLength\"] = 1000.0\n",
    "parameters[\"numberRodElements\"] = 30\n",
    "parameters[\"totalMass\"] = 1.0\n",
    "parameters[\"guidewireOffset\"] = -900.0\n",
    "\n",
    "\n",
    "constraint_solver_steps = [100, 200, 300, 400, 500]\n",
    "\n",
    "experiment_folder, name = prepare_experiment(\"constraint_solver_steps\")\n",
    "\n",
    "for css in constraint_solver_steps:\n",
    "    parameters[\"constraintSolverSteps\"] = css\n",
    "    run_expriment(experiment_folder, name+f\"_{css}\", parameters)"
   ]
  },
  {
   "cell_type": "markdown",
   "metadata": {},
   "source": [
    "# Time steps"
   ]
  },
  {
   "cell_type": "code",
   "execution_count": 5,
   "metadata": {},
   "outputs": [
    {
     "name": "stdout",
     "output_type": "stream",
     "text": [
      "Running Unity with the following command:\n",
      "/home/max/Documents/Unity/guidewire-simulation.x86_64 -parameters /home/max/Temp/Praktikum/experiments/time_steps/time_steps_0.0001/parameters.json -logFile /home/max/Temp/Praktikum/experiments/time_steps/time_steps_0.0001/log.txt\n",
      "Unity process finished with exit code: 0\n",
      "Running Unity with the following command:\n",
      "/home/max/Documents/Unity/guidewire-simulation.x86_64 -parameters /home/max/Temp/Praktikum/experiments/time_steps/time_steps_0.001/parameters.json -logFile /home/max/Temp/Praktikum/experiments/time_steps/time_steps_0.001/log.txt\n",
      "Unity process finished with exit code: 0\n",
      "Running Unity with the following command:\n",
      "/home/max/Documents/Unity/guidewire-simulation.x86_64 -parameters /home/max/Temp/Praktikum/experiments/time_steps/time_steps_0.01/parameters.json -logFile /home/max/Temp/Praktikum/experiments/time_steps/time_steps_0.01/log.txt\n",
      "Unity process finished with exit code: 0\n",
      "Running Unity with the following command:\n",
      "/home/max/Documents/Unity/guidewire-simulation.x86_64 -parameters /home/max/Temp/Praktikum/experiments/time_steps/time_steps_0.1/parameters.json -logFile /home/max/Temp/Praktikum/experiments/time_steps/time_steps_0.1/log.txt\n",
      "Unity process finished with exit code: 0\n",
      "Running Unity with the following command:\n",
      "/home/max/Documents/Unity/guidewire-simulation.x86_64 -parameters /home/max/Temp/Praktikum/experiments/time_steps/time_steps_1.0/parameters.json -logFile /home/max/Temp/Praktikum/experiments/time_steps/time_steps_1.0/log.txt\n",
      "Unity process finished with exit code: 0\n"
     ]
    }
   ],
   "source": [
    "parameters[\"logFilePath\"] = \"/home/max/Temp/Praktikum/\"\n",
    "parameters[\"constraintSolverSteps\"] = 300\n",
    "parameters[\"timeStep\"] = 0.01\n",
    "parameters[\"displacement\"] = 2.0\n",
    "parameters[\"rodElementLength\"] = 10.0\n",
    "parameters[\"guidewireLength\"] = 1000.0\n",
    "parameters[\"numberRodElements\"] = 30\n",
    "parameters[\"totalMass\"] = 1.0\n",
    "parameters[\"guidewireOffset\"] = -900.0\n",
    "\n",
    "timesteps = [0.0001, 0.001, 0.01, 0.1, 1.0]\n",
    "\n",
    "experiment_folder, name = prepare_experiment(\"time_steps\")\n",
    "\n",
    "for t in timesteps:\n",
    "    parameters[\"timeStep\"] = t\n",
    "    run_expriment(experiment_folder, name + f\"_{t}\", parameters)"
   ]
  },
  {
   "cell_type": "markdown",
   "metadata": {},
   "source": [
    "# Numer of Rod Elements"
   ]
  },
  {
   "cell_type": "code",
   "execution_count": 6,
   "metadata": {},
   "outputs": [
    {
     "name": "stdout",
     "output_type": "stream",
     "text": [
      "Running Unity with the following command:\n",
      "/home/max/Documents/Unity/guidewire-simulation.x86_64 -parameters /home/max/Temp/Praktikum/experiments/rod_elements/rod_elements_10.0/parameters.json -logFile /home/max/Temp/Praktikum/experiments/rod_elements/rod_elements_10.0/log.txt\n",
      "Unity process finished with exit code: 0\n",
      "Running Unity with the following command:\n",
      "/home/max/Documents/Unity/guidewire-simulation.x86_64 -parameters /home/max/Temp/Praktikum/experiments/rod_elements/rod_elements_20.0/parameters.json -logFile /home/max/Temp/Praktikum/experiments/rod_elements/rod_elements_20.0/log.txt\n",
      "Unity process finished with exit code: 0\n",
      "Running Unity with the following command:\n",
      "/home/max/Documents/Unity/guidewire-simulation.x86_64 -parameters /home/max/Temp/Praktikum/experiments/rod_elements/rod_elements_30.0/parameters.json -logFile /home/max/Temp/Praktikum/experiments/rod_elements/rod_elements_30.0/log.txt\n",
      "Unity process finished with exit code: 0\n",
      "Running Unity with the following command:\n",
      "/home/max/Documents/Unity/guidewire-simulation.x86_64 -parameters /home/max/Temp/Praktikum/experiments/rod_elements/rod_elements_40.0/parameters.json -logFile /home/max/Temp/Praktikum/experiments/rod_elements/rod_elements_40.0/log.txt\n",
      "Unity process finished with exit code: 0\n",
      "Running Unity with the following command:\n",
      "/home/max/Documents/Unity/guidewire-simulation.x86_64 -parameters /home/max/Temp/Praktikum/experiments/rod_elements/rod_elements_50.0/parameters.json -logFile /home/max/Temp/Praktikum/experiments/rod_elements/rod_elements_50.0/log.txt\n",
      "Unity process finished with exit code: 0\n",
      "Running Unity with the following command:\n",
      "/home/max/Documents/Unity/guidewire-simulation.x86_64 -parameters /home/max/Temp/Praktikum/experiments/rod_elements/rod_elements_60.0/parameters.json -logFile /home/max/Temp/Praktikum/experiments/rod_elements/rod_elements_60.0/log.txt\n",
      "Unity process finished with exit code: 0\n",
      "Running Unity with the following command:\n",
      "/home/max/Documents/Unity/guidewire-simulation.x86_64 -parameters /home/max/Temp/Praktikum/experiments/rod_elements/rod_elements_70.0/parameters.json -logFile /home/max/Temp/Praktikum/experiments/rod_elements/rod_elements_70.0/log.txt\n",
      "Unity process finished with exit code: 0\n",
      "Running Unity with the following command:\n",
      "/home/max/Documents/Unity/guidewire-simulation.x86_64 -parameters /home/max/Temp/Praktikum/experiments/rod_elements/rod_elements_80.0/parameters.json -logFile /home/max/Temp/Praktikum/experiments/rod_elements/rod_elements_80.0/log.txt\n"
     ]
    }
   ],
   "source": [
    "parameters[\"logFilePath\"] = \"/home/max/Temp/Praktikum/\"\n",
    "parameters[\"constraintSolverSteps\"] = 300\n",
    "parameters[\"timeStep\"] = 0.01\n",
    "parameters[\"displacement\"] = 1.0\n",
    "parameters[\"rodElementLength\"] = 10.0\n",
    "parameters[\"guidewireLength\"] = 1000.0\n",
    "parameters[\"numberRodElements\"] = 30\n",
    "parameters[\"totalMass\"] = 1.0\n",
    "parameters[\"guidewireOffset\"] = -900.0\n",
    "\n",
    "elements = np.arange(10,110,10).astype(\"float\")\n",
    "\n",
    "experiment_folder, name = prepare_experiment(\"rod_elements\")\n",
    "\n",
    "for e in elements:\n",
    "    parameters[\"numberRodElements\"] = e\n",
    "    run_expriment(experiment_folder, name + f\"_{e}\", parameters)"
   ]
  },
  {
   "cell_type": "markdown",
   "metadata": {},
   "source": [
    "# Displacement"
   ]
  },
  {
   "cell_type": "code",
   "execution_count": 4,
   "metadata": {},
   "outputs": [
    {
     "name": "stdout",
     "output_type": "stream",
     "text": [
      "Running Unity with the following command:Running Unity with the following command:Running Unity with the following command:Running Unity with the following command:\n",
      "/home/max/Documents/Unity/guidewire-simulation.x86_64 -parameters /home/max/Temp/Praktikum/experiments/displacement/displacement_1.0424137931034483/parameters.json -logFile /home/max/Temp/Praktikum/experiments/displacement/displacement_1.0424137931034483/log.txt\n",
      "\n",
      "\n",
      "\n",
      "/home/max/Documents/Unity/guidewire-simulation.x86_64 -parameters /home/max/Temp/Praktikum/experiments/displacement/displacement_0.01/parameters.json -logFile /home/max/Temp/Praktikum/experiments/displacement/displacement_0.01/log.txt/home/max/Documents/Unity/guidewire-simulation.x86_64 -parameters /home/max/Temp/Praktikum/experiments/displacement/displacement_0.35413793103448277/parameters.json -logFile /home/max/Temp/Praktikum/experiments/displacement/displacement_0.35413793103448277/log.txt/home/max/Documents/Unity/guidewire-simulation.x86_64 -parameters /home/max/Temp/Praktikum/experiments/displacement/displacement_0.6982758620689655/parameters.json -logFile /home/max/Temp/Praktikum/experiments/displacement/displacement_0.6982758620689655/log.txt\n"
     ]
    },
    {
     "name": "stdout",
     "output_type": "stream",
     "text": [
      "\n",
      "\n",
      "Unity process finished with exit code: 0\n",
      "Running Unity with the following command:\n",
      "/home/max/Documents/Unity/guidewire-simulation.x86_64 -parameters /home/max/Temp/Praktikum/experiments/displacement/displacement_1.2144827586206897/parameters.json -logFile /home/max/Temp/Praktikum/experiments/displacement/displacement_1.2144827586206897/log.txt\n",
      "Unity process finished with exit code: 0\n",
      "Running Unity with the following command:\n",
      "/home/max/Documents/Unity/guidewire-simulation.x86_64 -parameters /home/max/Temp/Praktikum/experiments/displacement/displacement_1.386551724137931/parameters.json -logFile /home/max/Temp/Praktikum/experiments/displacement/displacement_1.386551724137931/log.txt\n",
      "Unity process finished with exit code: 0\n",
      "Running Unity with the following command:\n",
      "/home/max/Documents/Unity/guidewire-simulation.x86_64 -parameters /home/max/Temp/Praktikum/experiments/displacement/displacement_1.5586206896551724/parameters.json -logFile /home/max/Temp/Praktikum/experiments/displacement/displacement_1.5586206896551724/log.txt\n",
      "Unity process finished with exit code: 0\n",
      "Running Unity with the following command:\n",
      "/home/max/Documents/Unity/guidewire-simulation.x86_64 -parameters /home/max/Temp/Praktikum/experiments/displacement/displacement_1.7306896551724138/parameters.json -logFile /home/max/Temp/Praktikum/experiments/displacement/displacement_1.7306896551724138/log.txt\n",
      "Unity process finished with exit code: 0\n",
      "Running Unity with the following command:\n",
      "/home/max/Documents/Unity/guidewire-simulation.x86_64 -parameters /home/max/Temp/Praktikum/experiments/displacement/displacement_0.1820689655172414/parameters.json -logFile /home/max/Temp/Praktikum/experiments/displacement/displacement_0.1820689655172414/log.txt\n",
      "Unity process finished with exit code: \n",
      "0Running Unity with the following command:\n",
      "/home/max/Documents/Unity/guidewire-simulation.x86_64 -parameters /home/max/Temp/Praktikum/experiments/displacement/displacement_0.8703448275862069/parameters.json -logFile /home/max/Temp/Praktikum/experiments/displacement/displacement_0.8703448275862069/log.txt\n",
      "Unity process finished with exit code: 0\n",
      "Running Unity with the following command:\n",
      "/home/max/Documents/Unity/guidewire-simulation.x86_64 -parameters /home/max/Temp/Praktikum/experiments/displacement/displacement_0.5262068965517241/parameters.json -logFile /home/max/Temp/Praktikum/experiments/displacement/displacement_0.5262068965517241/log.txt\n",
      "Unity process finished with exit code: 0\n",
      "Running Unity with the following command:\n",
      "/home/max/Documents/Unity/guidewire-simulation.x86_64 -parameters /home/max/Temp/Praktikum/experiments/displacement/displacement_2.0748275862068963/parameters.json -logFile /home/max/Temp/Praktikum/experiments/displacement/displacement_2.0748275862068963/log.txt\n",
      "Unity process finished with exit code: 0\n",
      "Running Unity with the following command:\n",
      "/home/max/Documents/Unity/guidewire-simulation.x86_64 -parameters /home/max/Temp/Praktikum/experiments/displacement/displacement_2.246896551724138/parameters.json -logFile /home/max/Temp/Praktikum/experiments/displacement/displacement_2.246896551724138/log.txt\n",
      "Unity process finished with exit code: 0\n",
      "Running Unity with the following command:\n",
      "/home/max/Documents/Unity/guidewire-simulation.x86_64 -parameters /home/max/Temp/Praktikum/experiments/displacement/displacement_2.418965517241379/parameters.json -logFile /home/max/Temp/Praktikum/experiments/displacement/displacement_2.418965517241379/log.txt\n",
      "Unity process finished with exit code: 0\n",
      "Running Unity with the following command:\n",
      "/home/max/Documents/Unity/guidewire-simulation.x86_64 -parameters /home/max/Temp/Praktikum/experiments/displacement/displacement_2.5910344827586202/parameters.json -logFile /home/max/Temp/Praktikum/experiments/displacement/displacement_2.5910344827586202/log.txt\n",
      "Unity process finished with exit code: 0\n",
      "Running Unity with the following command:\n",
      "/home/max/Documents/Unity/guidewire-simulation.x86_64 -parameters /home/max/Temp/Praktikum/experiments/displacement/displacement_2.763103448275862/parameters.json -logFile /home/max/Temp/Praktikum/experiments/displacement/displacement_2.763103448275862/log.txt\n",
      "Unity process finished with exit code: 0\n",
      "Running Unity with the following command:\n",
      "/home/max/Documents/Unity/guidewire-simulation.x86_64 -parameters /home/max/Temp/Praktikum/experiments/displacement/displacement_1.9027586206896552/parameters.json -logFile /home/max/Temp/Praktikum/experiments/displacement/displacement_1.9027586206896552/log.txt\n",
      "Unity process finished with exit code: 0\n",
      "Running Unity with the following command:\n",
      "/home/max/Documents/Unity/guidewire-simulation.x86_64 -parameters /home/max/Temp/Praktikum/experiments/displacement/displacement_3.1072413793103446/parameters.json -logFile /home/max/Temp/Praktikum/experiments/displacement/displacement_3.1072413793103446/log.txt\n",
      "Unity process finished with exit code: 0\n",
      "Running Unity with the following command:\n",
      "/home/max/Documents/Unity/guidewire-simulation.x86_64 -parameters /home/max/Temp/Praktikum/experiments/displacement/displacement_3.2793103448275858/parameters.json -logFile /home/max/Temp/Praktikum/experiments/displacement/displacement_3.2793103448275858/log.txt\n",
      "Unity process finished with exit code: 0\n",
      "Running Unity with the following command:\n",
      "/home/max/Documents/Unity/guidewire-simulation.x86_64 -parameters /home/max/Temp/Praktikum/experiments/displacement/displacement_3.4513793103448274/parameters.json -logFile /home/max/Temp/Praktikum/experiments/displacement/displacement_3.4513793103448274/log.txt\n",
      "Unity process finished with exit code: 0\n",
      "Running Unity with the following command:\n",
      "/home/max/Documents/Unity/guidewire-simulation.x86_64 -parameters /home/max/Temp/Praktikum/experiments/displacement/displacement_3.623448275862069/parameters.json -logFile /home/max/Temp/Praktikum/experiments/displacement/displacement_3.623448275862069/log.txt\n",
      "Unity process finished with exit code: 0\n",
      "Running Unity with the following command:\n",
      "/home/max/Documents/Unity/guidewire-simulation.x86_64 -parameters /home/max/Temp/Praktikum/experiments/displacement/displacement_2.9351724137931035/parameters.json -logFile /home/max/Temp/Praktikum/experiments/displacement/displacement_2.9351724137931035/log.txt\n",
      "Unity process finished with exit code: 0\n",
      "Running Unity with the following command:\n",
      "/home/max/Documents/Unity/guidewire-simulation.x86_64 -parameters /home/max/Temp/Praktikum/experiments/displacement/displacement_3.79551724137931/parameters.json -logFile /home/max/Temp/Praktikum/experiments/displacement/displacement_3.79551724137931/log.txt\n",
      "Unity process finished with exit code: 0\n",
      "Running Unity with the following command:\n",
      "/home/max/Documents/Unity/guidewire-simulation.x86_64 -parameters /home/max/Temp/Praktikum/experiments/displacement/displacement_4.139655172413793/parameters.json -logFile /home/max/Temp/Praktikum/experiments/displacement/displacement_4.139655172413793/log.txt\n",
      "Unity process finished with exit code: 0\n",
      "Running Unity with the following command:\n",
      "/home/max/Documents/Unity/guidewire-simulation.x86_64 -parameters /home/max/Temp/Praktikum/experiments/displacement/displacement_4.483793103448276/parameters.json -logFile /home/max/Temp/Praktikum/experiments/displacement/displacement_4.483793103448276/log.txt\n",
      "Unity process finished with exit code: 0\n",
      "Running Unity with the following command:\n",
      "/home/max/Documents/Unity/guidewire-simulation.x86_64 -parameters /home/max/Temp/Praktikum/experiments/displacement/displacement_4.827931034482758/parameters.json -logFile /home/max/Temp/Praktikum/experiments/displacement/displacement_4.827931034482758/log.txt\n",
      "Unity process finished with exit code: 0\n",
      "Running Unity with the following command:\n",
      "/home/max/Documents/Unity/guidewire-simulation.x86_64 -parameters /home/max/Temp/Praktikum/experiments/displacement/displacement_4.655862068965517/parameters.json -logFile /home/max/Temp/Praktikum/experiments/displacement/displacement_4.655862068965517/log.txt\n",
      "Unity process finished with exit code: \n",
      "0Unity process finished with exit code: 0\n",
      "Running Unity with the following command:\n",
      "/home/max/Documents/Unity/guidewire-simulation.x86_64 -parameters /home/max/Temp/Praktikum/experiments/displacement/displacement_5.0/parameters.json -logFile /home/max/Temp/Praktikum/experiments/displacement/displacement_5.0/log.txt\n",
      "Unity process finished with exit code: 0\n",
      "Unity process finished with exit code: 0\n",
      "Running Unity with the following command:\n",
      "/home/max/Documents/Unity/guidewire-simulation.x86_64 -parameters /home/max/Temp/Praktikum/experiments/displacement/displacement_3.9675862068965513/parameters.json -logFile /home/max/Temp/Praktikum/experiments/displacement/displacement_3.9675862068965513/log.txt\n",
      "Unity process finished with exit code: 0\n",
      "Running Unity with the following command:\n",
      "/home/max/Documents/Unity/guidewire-simulation.x86_64 -parameters /home/max/Temp/Praktikum/experiments/displacement/displacement_4.3117241379310345/parameters.json -logFile /home/max/Temp/Praktikum/experiments/displacement/displacement_4.3117241379310345/log.txt\n",
      "Unity process finished with exit code: 0\n",
      "Unity process finished with exit code: 0\n"
     ]
    }
   ],
   "source": [
    "import multiprocessing as mp\n",
    "\n",
    "parameters[\"logFilePath\"] = \"/home/max/Temp/Praktikum/\"\n",
    "parameters[\"constraintSolverSteps\"] = 300\n",
    "parameters[\"timeStep\"] = 0.01\n",
    "parameters[\"displacement\"] = 1.0\n",
    "parameters[\"rodElementLength\"] = 10.0\n",
    "parameters[\"guidewireLength\"] = 1000.0\n",
    "parameters[\"numberRodElements\"] = 30\n",
    "parameters[\"totalMass\"] = 1.0\n",
    "parameters[\"guidewireOffset\"] = -900.0\n",
    "\n",
    "\n",
    "elements = np.linspace(0.01,5, 30)\n",
    "\n",
    "experiment_folder, name = prepare_experiment(\"displacement\")\n",
    "\n",
    "\n",
    "def temp_fun(e):\n",
    "    parameters[\"displacement\"] = e\n",
    "    run_expriment(experiment_folder, name + f\"_{e}\", parameters)\n",
    "\n",
    "with mp.Pool(4) as p:\n",
    "    p.map(temp_fun, elements)"
   ]
  },
  {
   "cell_type": "code",
   "execution_count": null,
   "metadata": {},
   "outputs": [],
   "source": []
  }
 ],
 "metadata": {
  "kernelspec": {
   "display_name": "work",
   "language": "python",
   "name": "python3"
  },
  "language_info": {
   "codemirror_mode": {
    "name": "ipython",
    "version": 3
   },
   "file_extension": ".py",
   "mimetype": "text/x-python",
   "name": "python",
   "nbconvert_exporter": "python",
   "pygments_lexer": "ipython3",
   "version": "3.11.4"
  }
 },
 "nbformat": 4,
 "nbformat_minor": 2
}
